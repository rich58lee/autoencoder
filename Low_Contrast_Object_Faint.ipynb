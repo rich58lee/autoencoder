{
 "cells": [
  {
   "cell_type": "code",
   "execution_count": 1,
   "id": "7eb3b497",
   "metadata": {},
   "outputs": [],
   "source": [
    "import cv2\n",
    "import numpy\n",
    "import matplotlib.pyplot as plt\n",
    "from glob import glob\n",
    "from os import path"
   ]
  },
  {
   "cell_type": "code",
   "execution_count": 2,
   "id": "08b050a8",
   "metadata": {},
   "outputs": [],
   "source": [
    "from skimage.color import *\n",
    "from skimage.util import *"
   ]
  },
  {
   "cell_type": "code",
   "execution_count": 3,
   "id": "2503018d",
   "metadata": {},
   "outputs": [],
   "source": [
    "def show_image(my_image):\n",
    "    fig, ax = plt.subplots(dpi=120)\n",
    "    ax.imshow(my_image)\n",
    "    ax.axis('off')\n",
    "    plt.show()"
   ]
  },
  {
   "cell_type": "code",
   "execution_count": 4,
   "id": "5cadc4fe",
   "metadata": {},
   "outputs": [],
   "source": [
    "def load_image(image_file):\n",
    "    img_bgr = cv2.imread(image_file)\n",
    "    my_image = cv2.cvtColor(img_bgr, cv2.COLOR_BGR2RGB) \n",
    "    return my_image"
   ]
  },
  {
   "cell_type": "code",
   "execution_count": 5,
   "id": "5f6b5c48",
   "metadata": {},
   "outputs": [],
   "source": [
    "def is_low_contrast(obj_image, fraction_threshold=0.05, lower_percentile=1,\n",
    "                    upper_percentile=99, method='linear'):\n",
    "    dlimits = dtype_limits(obj_image, clip_negative=False)\n",
    "    limits = numpy.percentile(obj_image, [lower_percentile, upper_percentile])\n",
    "    \n",
    "    ratio = (limits[1] - limits[0]) / (dlimits[1] - dlimits[0])\n",
    "\n",
    "    return ratio < fraction_threshold, ratio"
   ]
  },
  {
   "cell_type": "code",
   "execution_count": 6,
   "id": "52f17804",
   "metadata": {},
   "outputs": [],
   "source": [
    "def is_low_contrast_image(obj_image, fraction_threshold=0.2, lower_percentile=10, upper_percentile=90):\n",
    "    low_contrast = False\n",
    "\n",
    "    low_contrast = is_low_contrast(obj_image, \n",
    "                                   fraction_threshold=fraction_threshold, \n",
    "                                   lower_percentile=lower_percentile, \n",
    "                                   upper_percentile=upper_percentile)\n",
    "    return low_contrast"
   ]
  },
  {
   "cell_type": "code",
   "execution_count": 7,
   "id": "1e5e166f",
   "metadata": {},
   "outputs": [],
   "source": [
    "def output(fraction_threshold, lower_percentile, upper_percentile):\n",
    "    global obj_images\n",
    "    \n",
    "    low_contrast_images = []\n",
    "    low_contrast_ratios = []\n",
    "\n",
    "    for obj_name in obj_images:\n",
    "        obj = obj_images[obj_name]\n",
    "\n",
    "        low_contrast, ratio = is_low_contrast_image(obj, fraction_threshold=fraction_threshold,\n",
    "                                                    lower_percentile=lower_percentile, upper_percentile=upper_percentile)\n",
    "        low_contrast_ratios.append(ratio)\n",
    "\n",
    "        if not low_contrast:\n",
    "            low_contrast_images.append(obj_name)\n",
    "\n",
    "    if len(low_contrast_images) > 0:\n",
    "        print(len(low_contrast_images), len(low_contrast_images) / len(image_files))\n",
    "\n",
    "    print(numpy.mean(low_contrast_ratios), numpy.std(low_contrast_ratios))"
   ]
  },
  {
   "cell_type": "markdown",
   "id": "7fa8e607",
   "metadata": {},
   "source": [
    "<h3>環境設置</h3>"
   ]
  },
  {
   "cell_type": "code",
   "execution_count": 8,
   "id": "1d01aae1",
   "metadata": {},
   "outputs": [
    {
     "data": {
      "text/plain": [
       "['F000234-00001.jpg',\n",
       " 'F000235-00001.jpg',\n",
       " 'F000236-00000.jpg',\n",
       " 'F000237-00001.jpg',\n",
       " 'F000238-00001.jpg']"
      ]
     },
     "execution_count": 8,
     "metadata": {},
     "output_type": "execute_result"
    }
   ],
   "source": [
    "image_folder = 'D:/Projects/ComputerVision/AutoEncoder/Fish/images/objects/faint'\n",
    "image_files = [ f[len(image_folder) + 1:] for f in sorted(glob('%s/F*.jpg' % (image_folder)))]\n",
    "\n",
    "image_files[:5]"
   ]
  },
  {
   "cell_type": "markdown",
   "id": "521350de",
   "metadata": {},
   "source": [
    "<h3>轉換資料格式</h3>"
   ]
  },
  {
   "cell_type": "code",
   "execution_count": 9,
   "id": "fb637646",
   "metadata": {},
   "outputs": [],
   "source": [
    "obj_images = dict()\n",
    "\n",
    "for image_file in image_files:\n",
    "    _image_file = '%s/%s' % (image_folder, image_file)\n",
    "\n",
    "    my_image = load_image(_image_file)\n",
    "    _image = rgb2gray(numpy.asanyarray(my_image))\n",
    "    \n",
    "    obj_images[image_file] = _image"
   ]
  },
  {
   "cell_type": "markdown",
   "id": "28618eeb",
   "metadata": {},
   "source": [
    "<h3>設定基礎閥值，計算模糊影像個數</h3>"
   ]
  },
  {
   "cell_type": "code",
   "execution_count": 10,
   "id": "09b9266f",
   "metadata": {},
   "outputs": [
    {
     "name": "stdout",
     "output_type": "stream",
     "text": [
      "97 0.8220338983050848\n",
      "0.12800642198404782 0.026211590387338134\n"
     ]
    }
   ],
   "source": [
    "output(fraction_threshold=0.1, lower_percentile=5, upper_percentile=95)"
   ]
  },
  {
   "cell_type": "markdown",
   "id": "8bf4050c",
   "metadata": {},
   "source": [
    "<h3>提高閥值，亦會增加模糊影像個數</h3>"
   ]
  },
  {
   "cell_type": "code",
   "execution_count": 11,
   "id": "9af4b9a5",
   "metadata": {},
   "outputs": [
    {
     "name": "stdout",
     "output_type": "stream",
     "text": [
      "27 0.2288135593220339\n",
      "0.12800642198404782 0.026211590387338134\n"
     ]
    }
   ],
   "source": [
    "output(fraction_threshold=0.15, lower_percentile=5, upper_percentile=95)"
   ]
  },
  {
   "cell_type": "markdown",
   "id": "59a200a6",
   "metadata": {},
   "source": [
    "<h3>提高閥值，亦會增加模糊影像個數</h3>"
   ]
  },
  {
   "cell_type": "code",
   "execution_count": 12,
   "id": "cb92d378",
   "metadata": {},
   "outputs": [
    {
     "name": "stdout",
     "output_type": "stream",
     "text": [
      "0.12800642198404782 0.026211590387338134\n"
     ]
    }
   ],
   "source": [
    "output(fraction_threshold=0.20, lower_percentile=5, upper_percentile=95)"
   ]
  },
  {
   "cell_type": "markdown",
   "id": "7ed2b18b",
   "metadata": {},
   "source": [
    "<h3>調整低區間百分位，會增加模糊影像個數</h3>"
   ]
  },
  {
   "cell_type": "code",
   "execution_count": 13,
   "id": "09604d7a",
   "metadata": {},
   "outputs": [
    {
     "name": "stdout",
     "output_type": "stream",
     "text": [
      "0.1180384874543037 0.030365854567004184\n"
     ]
    }
   ],
   "source": [
    "output(fraction_threshold=0.20, lower_percentile=15, upper_percentile=95)"
   ]
  },
  {
   "cell_type": "markdown",
   "id": "240fa5d0",
   "metadata": {},
   "source": [
    "<h3>調整高區間百分位，會增加模糊影像個數</h3>"
   ]
  },
  {
   "cell_type": "code",
   "execution_count": 14,
   "id": "1c431890",
   "metadata": {},
   "outputs": [
    {
     "name": "stdout",
     "output_type": "stream",
     "text": [
      "0.09466282685277495 0.019327676940458637\n"
     ]
    }
   ],
   "source": [
    "output(fraction_threshold=0.20, lower_percentile=5, upper_percentile=85)"
   ]
  },
  {
   "cell_type": "code",
   "execution_count": null,
   "id": "98d0cc22",
   "metadata": {},
   "outputs": [],
   "source": []
  }
 ],
 "metadata": {
  "kernelspec": {
   "display_name": "Python 3",
   "language": "python",
   "name": "python3"
  },
  "language_info": {
   "codemirror_mode": {
    "name": "ipython",
    "version": 3
   },
   "file_extension": ".py",
   "mimetype": "text/x-python",
   "name": "python",
   "nbconvert_exporter": "python",
   "pygments_lexer": "ipython3",
   "version": "3.8.10"
  }
 },
 "nbformat": 4,
 "nbformat_minor": 5
}
