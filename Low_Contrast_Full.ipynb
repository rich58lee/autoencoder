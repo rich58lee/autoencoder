{
 "cells": [
  {
   "cell_type": "code",
   "execution_count": 1,
   "id": "7eb3b497",
   "metadata": {},
   "outputs": [],
   "source": [
    "import cv2\n",
    "import numpy\n",
    "import matplotlib.pyplot as plt\n",
    "from glob import glob\n",
    "from os import path"
   ]
  },
  {
   "cell_type": "code",
   "execution_count": 2,
   "id": "08b050a8",
   "metadata": {},
   "outputs": [],
   "source": [
    "from skimage.color import *\n",
    "from skimage.util import *"
   ]
  },
  {
   "cell_type": "code",
   "execution_count": 3,
   "id": "0914bde3",
   "metadata": {},
   "outputs": [],
   "source": [
    "from pandas import DataFrame"
   ]
  },
  {
   "cell_type": "code",
   "execution_count": 4,
   "id": "2503018d",
   "metadata": {},
   "outputs": [],
   "source": [
    "def show_image(my_image):\n",
    "    fig, ax = plt.subplots(dpi=120)\n",
    "    ax.imshow(my_image)\n",
    "    ax.axis('off')\n",
    "    plt.show()"
   ]
  },
  {
   "cell_type": "code",
   "execution_count": 5,
   "id": "5cadc4fe",
   "metadata": {},
   "outputs": [],
   "source": [
    "def load_image(image_file):\n",
    "    img_bgr = cv2.imread(image_file)\n",
    "    my_image = cv2.cvtColor(img_bgr, cv2.COLOR_BGR2RGB) \n",
    "    return my_image"
   ]
  },
  {
   "cell_type": "code",
   "execution_count": 6,
   "id": "5f6b5c48",
   "metadata": {},
   "outputs": [],
   "source": [
    "def is_low_contrast(obj_image, fraction_threshold=0.05, lower_percentile=1,\n",
    "                    upper_percentile=99, method='linear'):\n",
    "    dlimits = dtype_limits(obj_image, clip_negative=False)\n",
    "    limits = numpy.percentile(obj_image, [lower_percentile, upper_percentile])\n",
    "    \n",
    "    ratio = (limits[1] - limits[0]) / (dlimits[1] - dlimits[0])\n",
    "\n",
    "    return ratio < fraction_threshold, ratio"
   ]
  },
  {
   "cell_type": "code",
   "execution_count": 7,
   "id": "1e5e166f",
   "metadata": {},
   "outputs": [],
   "source": [
    "def get_low_contrast(fraction_threshold, lower_percentile, upper_percentile):\n",
    "    global obj_images\n",
    "    \n",
    "    low_contrast_ratios = dict()\n",
    "\n",
    "    for obj_name in obj_images:\n",
    "        obj = obj_images[obj_name]\n",
    "\n",
    "        low_contrast, ratio = is_low_contrast(obj, fraction_threshold=fraction_threshold,\n",
    "                                                   lower_percentile=lower_percentile, \n",
    "                                                   upper_percentile=upper_percentile)\n",
    "        if not low_contrast:\n",
    "            low_contrast_ratios[obj_name] = ratio\n",
    "        else:\n",
    "            low_contrast_ratios[obj_name] = -1.0\n",
    "\n",
    "    return low_contrast_ratios"
   ]
  },
  {
   "cell_type": "code",
   "execution_count": 8,
   "id": "f05860ce",
   "metadata": {},
   "outputs": [],
   "source": [
    "def get_contrast_ratios():\n",
    "    global obj_images\n",
    "    \n",
    "    low_contrast_ratios = dict()\n",
    "\n",
    "    for obj_name in obj_images:\n",
    "        obj = obj_images[obj_name]\n",
    "\n",
    "        obj_flat = obj.flatten()\n",
    "        obj_flat_norm = (obj_flat - obj_flat.mean())/(obj_flat.std())\n",
    "        obj_flat_sort = numpy.sort(numpy.unique(obj_flat_norm))\n",
    "        obj_flat_sort_diff = numpy.diff(obj_flat_sort)\n",
    "        \n",
    "        ratio = obj_flat_sort_diff[-1] - obj_flat_sort_diff[1]\n",
    "        low_contrast_ratios[obj_name] = ratio\n",
    "\n",
    "    return low_contrast_ratios"
   ]
  },
  {
   "cell_type": "markdown",
   "id": "7fa8e607",
   "metadata": {},
   "source": [
    "<h3>環境設置</h3>"
   ]
  },
  {
   "cell_type": "code",
   "execution_count": 9,
   "id": "1d01aae1",
   "metadata": {},
   "outputs": [
    {
     "data": {
      "text/plain": [
       "['F000055.jpg', 'F000056.jpg', 'F000057.jpg', 'F000058.jpg', 'F000059.jpg']"
      ]
     },
     "execution_count": 9,
     "metadata": {},
     "output_type": "execute_result"
    }
   ],
   "source": [
    "image_folder = 'D:/Projects/ComputerVision/AutoEncoder/Fish/images/full'\n",
    "image_files = [ f[len(image_folder) + 1:] for f in sorted(glob('%s/F*.jpg' % (image_folder)))]\n",
    "\n",
    "image_files[:5]"
   ]
  },
  {
   "cell_type": "markdown",
   "id": "521350de",
   "metadata": {},
   "source": [
    "<h3>轉換資料格式</h3>"
   ]
  },
  {
   "cell_type": "code",
   "execution_count": 10,
   "id": "fb637646",
   "metadata": {},
   "outputs": [],
   "source": [
    "obj_images = dict()\n",
    "\n",
    "for image_file in image_files:\n",
    "    _image_file = '%s/%s' % (image_folder, image_file)\n",
    "\n",
    "    my_image = load_image(_image_file)\n",
    "    _image = rgb2gray(numpy.asanyarray(my_image))\n",
    "    \n",
    "    obj_images[image_file] = _image"
   ]
  },
  {
   "cell_type": "markdown",
   "id": "e25ade48",
   "metadata": {},
   "source": [
    "<h3>驗證構想</h3>"
   ]
  },
  {
   "cell_type": "markdown",
   "id": "28618eeb",
   "metadata": {},
   "source": [
    "<h3>設定基礎閥值，計算模糊影像個數</h3>"
   ]
  },
  {
   "cell_type": "code",
   "execution_count": 11,
   "id": "09b9266f",
   "metadata": {},
   "outputs": [],
   "source": [
    "low_contrast_ratios = get_low_contrast(fraction_threshold=0.1, lower_percentile=5, upper_percentile=95)"
   ]
  },
  {
   "cell_type": "code",
   "execution_count": 12,
   "id": "3b75707c",
   "metadata": {},
   "outputs": [
    {
     "name": "stdout",
     "output_type": "stream",
     "text": [
      "CLEAR= 742\tOBSCURE=1555\n"
     ]
    }
   ],
   "source": [
    "low_contrast_ratios_df = DataFrame(data={ 'Ratio': low_contrast_ratios.values() },\n",
    "                                          index=low_contrast_ratios.keys()\n",
    "                                  )\n",
    "\n",
    "low_contrast_count = low_contrast_ratios_df.loc[low_contrast_ratios_df['Ratio']==-1].count()\n",
    "\n",
    "print('OBSCURE=%4d\\tCLEAR=%4d' % (\n",
    "    low_contrast_count.values[0], \n",
    "    low_contrast_ratios_df.shape[0] - low_contrast_count.values[0]))\n",
    "\n",
    "low_contrast_ratios_df.to_csv('Low_Contrast_Ratios_10_5_95.csv', \n",
    "                              index=True, index_label='IMAGE_ID')"
   ]
  },
  {
   "cell_type": "markdown",
   "id": "8bf4050c",
   "metadata": {},
   "source": [
    "<h3>提高閥值，亦會增加模糊影像個數</h3>"
   ]
  },
  {
   "cell_type": "code",
   "execution_count": 13,
   "id": "9af4b9a5",
   "metadata": {},
   "outputs": [],
   "source": [
    "low_contrast_ratios = get_low_contrast(fraction_threshold=0.15, lower_percentile=5, upper_percentile=95)"
   ]
  },
  {
   "cell_type": "code",
   "execution_count": 14,
   "id": "0ed99240",
   "metadata": {},
   "outputs": [
    {
     "name": "stdout",
     "output_type": "stream",
     "text": [
      "CLEAR=1893\tOBSCURE= 404\n"
     ]
    }
   ],
   "source": [
    "low_contrast_ratios_df = DataFrame(data={ 'Ratio': low_contrast_ratios.values() },\n",
    "                                          index=low_contrast_ratios.keys()\n",
    "                                  )\n",
    "\n",
    "low_contrast_count = low_contrast_ratios_df.loc[low_contrast_ratios_df['Ratio']==-1].count()\n",
    "\n",
    "print('OBSCURE=%4d\\tCLEAR=%4d' % (\n",
    "    low_contrast_count.values[0], \n",
    "    low_contrast_ratios_df.shape[0] - low_contrast_count.values[0]))\n",
    "\n",
    "low_contrast_ratios_df.to_csv('Low_Contrast_Ratios_15_5_95.csv', \n",
    "                              index=True, index_label='IMAGE_ID')"
   ]
  },
  {
   "cell_type": "markdown",
   "id": "59a200a6",
   "metadata": {},
   "source": [
    "<h3>提高閥值，亦會增加模糊影像個數</h3>"
   ]
  },
  {
   "cell_type": "code",
   "execution_count": 15,
   "id": "cb92d378",
   "metadata": {},
   "outputs": [],
   "source": [
    "low_contrast_ratios = get_low_contrast(fraction_threshold=0.20, lower_percentile=5, upper_percentile=95)"
   ]
  },
  {
   "cell_type": "code",
   "execution_count": 16,
   "id": "ea8c99ae",
   "metadata": {},
   "outputs": [
    {
     "name": "stdout",
     "output_type": "stream",
     "text": [
      "CLEAR=2290\tOBSCURE=   7\n"
     ]
    }
   ],
   "source": [
    "low_contrast_ratios_df = DataFrame(data={ 'Ratio': low_contrast_ratios.values() },\n",
    "                                          index=low_contrast_ratios.keys()\n",
    "                                  )\n",
    "\n",
    "low_contrast_count = low_contrast_ratios_df.loc[low_contrast_ratios_df['Ratio']==-1].count()\n",
    "\n",
    "print('OBSCURE=%4d\\tCLEAR=%4d' % (\n",
    "    low_contrast_count.values[0], \n",
    "    low_contrast_ratios_df.shape[0] - low_contrast_count.values[0]))\n",
    "\n",
    "low_contrast_ratios_df.to_csv('Low_Contrast_Ratios_20_5_95.csv', \n",
    "                              index=True, index_label='IMAGE_ID')"
   ]
  },
  {
   "cell_type": "markdown",
   "id": "7ed2b18b",
   "metadata": {},
   "source": [
    "<h3>調高低區間百分位，會增加模糊影像個數</h3>"
   ]
  },
  {
   "cell_type": "code",
   "execution_count": 17,
   "id": "09604d7a",
   "metadata": {},
   "outputs": [],
   "source": [
    "low_contrast_ratios = get_low_contrast(fraction_threshold=0.20, lower_percentile=15, upper_percentile=95)"
   ]
  },
  {
   "cell_type": "code",
   "execution_count": 18,
   "id": "33470729",
   "metadata": {},
   "outputs": [
    {
     "name": "stdout",
     "output_type": "stream",
     "text": [
      "CLEAR=2297\tOBSCURE=   0\n"
     ]
    }
   ],
   "source": [
    "low_contrast_ratios_df = DataFrame(data={ 'Ratio': low_contrast_ratios.values() },\n",
    "                                          index=low_contrast_ratios.keys()\n",
    "                                  )\n",
    "\n",
    "low_contrast_count = low_contrast_ratios_df.loc[low_contrast_ratios_df['Ratio']==-1].count()\n",
    "\n",
    "print('OBSCURE=%4d\\tCLEAR=%4d' % (\n",
    "    low_contrast_count.values[0], \n",
    "    low_contrast_ratios_df.shape[0] - low_contrast_count.values[0]))\n",
    "\n",
    "low_contrast_ratios_df.to_csv('Low_Contrast_Ratios_20_15_95.csv', \n",
    "                              index=True, index_label='IMAGE_ID')"
   ]
  },
  {
   "cell_type": "markdown",
   "id": "240fa5d0",
   "metadata": {},
   "source": [
    "<h3>縮減高區間百分位，會增加模糊影像個數</h3>"
   ]
  },
  {
   "cell_type": "code",
   "execution_count": 19,
   "id": "1c431890",
   "metadata": {},
   "outputs": [],
   "source": [
    "low_contrast_ratios = get_low_contrast(fraction_threshold=0.20, lower_percentile=5, upper_percentile=85)"
   ]
  },
  {
   "cell_type": "code",
   "execution_count": 20,
   "id": "aca747fa",
   "metadata": {},
   "outputs": [
    {
     "name": "stdout",
     "output_type": "stream",
     "text": [
      "CLEAR=2297\tOBSCURE=   0\n"
     ]
    }
   ],
   "source": [
    "low_contrast_ratios_df = DataFrame(data={ 'Ratio': low_contrast_ratios.values() },\n",
    "                                          index=low_contrast_ratios.keys()\n",
    "                                  )\n",
    "\n",
    "low_contrast_count = low_contrast_ratios_df.loc[low_contrast_ratios_df['Ratio']==-1].count()\n",
    "\n",
    "print('OBSCURE=%4d\\tCLEAR=%4d' % (\n",
    "    low_contrast_count.values[0], \n",
    "    low_contrast_ratios_df.shape[0] - low_contrast_count.values[0]))\n",
    "\n",
    "low_contrast_ratios_df.to_csv('Low_Contrast_Ratios_20_5_85.csv', \n",
    "                              index=True, index_label='IMAGE_ID')"
   ]
  },
  {
   "cell_type": "code",
   "execution_count": 21,
   "id": "f0935af4",
   "metadata": {},
   "outputs": [
    {
     "data": {
      "text/plain": [
       "2297"
      ]
     },
     "execution_count": 21,
     "metadata": {},
     "output_type": "execute_result"
    }
   ],
   "source": [
    "low_contrast_count.values[0]"
   ]
  },
  {
   "cell_type": "markdown",
   "id": "693e2579",
   "metadata": {},
   "source": [
    "<h3>計算灰階梯度</h3>"
   ]
  },
  {
   "cell_type": "code",
   "execution_count": 22,
   "id": "98d0cc22",
   "metadata": {},
   "outputs": [],
   "source": [
    "low_contrast_ratios = get_contrast_ratios()\n",
    "ratios_df = DataFrame(data={ 'Ratio_Norm': low_contrast_ratios.values() }, \n",
    "                      index=low_contrast_ratios.keys())"
   ]
  },
  {
   "cell_type": "code",
   "execution_count": 23,
   "id": "58d2f093",
   "metadata": {},
   "outputs": [
    {
     "data": {
      "text/html": [
       "<div>\n",
       "<style scoped>\n",
       "    .dataframe tbody tr th:only-of-type {\n",
       "        vertical-align: middle;\n",
       "    }\n",
       "\n",
       "    .dataframe tbody tr th {\n",
       "        vertical-align: top;\n",
       "    }\n",
       "\n",
       "    .dataframe thead th {\n",
       "        text-align: right;\n",
       "    }\n",
       "</style>\n",
       "<table border=\"1\" class=\"dataframe\">\n",
       "  <thead>\n",
       "    <tr style=\"text-align: right;\">\n",
       "      <th></th>\n",
       "      <th>Ratio_Norm</th>\n",
       "    </tr>\n",
       "  </thead>\n",
       "  <tbody>\n",
       "    <tr>\n",
       "      <th>F015790.jpg</th>\n",
       "      <td>-0.536452</td>\n",
       "    </tr>\n",
       "    <tr>\n",
       "      <th>F000292.jpg</th>\n",
       "      <td>-0.510930</td>\n",
       "    </tr>\n",
       "    <tr>\n",
       "      <th>F000277.jpg</th>\n",
       "      <td>-0.464239</td>\n",
       "    </tr>\n",
       "    <tr>\n",
       "      <th>F004474.jpg</th>\n",
       "      <td>-0.368381</td>\n",
       "    </tr>\n",
       "    <tr>\n",
       "      <th>F014074.jpg</th>\n",
       "      <td>-0.338859</td>\n",
       "    </tr>\n",
       "    <tr>\n",
       "      <th>...</th>\n",
       "      <td>...</td>\n",
       "    </tr>\n",
       "    <tr>\n",
       "      <th>F016872.jpg</th>\n",
       "      <td>0.907791</td>\n",
       "    </tr>\n",
       "    <tr>\n",
       "      <th>F009182.jpg</th>\n",
       "      <td>0.998889</td>\n",
       "    </tr>\n",
       "    <tr>\n",
       "      <th>F007134.jpg</th>\n",
       "      <td>1.097398</td>\n",
       "    </tr>\n",
       "    <tr>\n",
       "      <th>F012684.jpg</th>\n",
       "      <td>1.111298</td>\n",
       "    </tr>\n",
       "    <tr>\n",
       "      <th>F005608.jpg</th>\n",
       "      <td>1.133901</td>\n",
       "    </tr>\n",
       "  </tbody>\n",
       "</table>\n",
       "<p>2297 rows × 1 columns</p>\n",
       "</div>"
      ],
      "text/plain": [
       "             Ratio_Norm\n",
       "F015790.jpg   -0.536452\n",
       "F000292.jpg   -0.510930\n",
       "F000277.jpg   -0.464239\n",
       "F004474.jpg   -0.368381\n",
       "F014074.jpg   -0.338859\n",
       "...                 ...\n",
       "F016872.jpg    0.907791\n",
       "F009182.jpg    0.998889\n",
       "F007134.jpg    1.097398\n",
       "F012684.jpg    1.111298\n",
       "F005608.jpg    1.133901\n",
       "\n",
       "[2297 rows x 1 columns]"
      ]
     },
     "execution_count": 23,
     "metadata": {},
     "output_type": "execute_result"
    }
   ],
   "source": [
    "ratios_df.sort_values(['Ratio_Norm'])"
   ]
  },
  {
   "cell_type": "code",
   "execution_count": 24,
   "id": "f55b4708",
   "metadata": {},
   "outputs": [],
   "source": [
    "ratios_df.to_csv('Low_Contrast_Ratios.csv', index=True, index_label='IMAGE_ID')"
   ]
  },
  {
   "cell_type": "code",
   "execution_count": 36,
   "id": "4ad0857a",
   "metadata": {},
   "outputs": [
    {
     "data": {
      "text/plain": [
       "(-1.96, 1.96)"
      ]
     },
     "execution_count": 36,
     "metadata": {},
     "output_type": "execute_result"
    },
    {
     "data": {
      "image/png": "[encoded data removed]",
      "text/plain": [
       "<Figure size 960x720 with 1 Axes>"
      ]
     },
     "metadata": {
      "needs_background": "light"
     },
     "output_type": "display_data"
    }
   ],
   "source": [
    "fig, ax = plt.subplots(dpi=120, figsize=(8, 6))\n",
    "\n",
    "ratios_df.plot(ax=ax)\n",
    "\n",
    "ul = ratios_df['Ratio_Norm'].mean() + ratios_df['Ratio_Norm'].std()\n",
    "dl = ratios_df['Ratio_Norm'].mean() - ratios_df['Ratio_Norm'].std()\n",
    "\n",
    "ax.axhline(y=ul, color='y', linestyle='--')\n",
    "ax.axhline(y=dl, color='y', linestyle='--')\n",
    "\n",
    "plt.ylim([-1.96, +1.96])"
   ]
  },
  {
   "cell_type": "code",
   "execution_count": 37,
   "id": "6a9180bd",
   "metadata": {},
   "outputs": [
    {
     "data": {
      "text/plain": [
       "array([<AxesSubplot:title={'center':'Ratio_Norm'}>], dtype=object)"
      ]
     },
     "execution_count": 37,
     "metadata": {},
     "output_type": "execute_result"
    },
    {
     "data": {
      "image/png": "[encoded data removed]",
      "text/plain": [
       "<Figure size 960x720 with 1 Axes>"
      ]
     },
     "metadata": {
      "needs_background": "light"
     },
     "output_type": "display_data"
    }
   ],
   "source": [
    "fig, ax = plt.subplots(dpi=120, figsize=(8, 6))\n",
    "\n",
    "ratios_df.hist(ax=ax)"
   ]
  },
  {
   "cell_type": "code",
   "execution_count": 39,
   "id": "32bb654d",
   "metadata": {},
   "outputs": [
    {
     "data": {
      "text/plain": [
       "(array([9.98846e+05, 9.56854e+05, 8.18910e+04, 2.17740e+04, 8.17800e+03,\n",
       "        4.14900e+03, 1.83200e+03, 7.60000e+01]),\n",
       " array([-1.9516775 , -0.21829807,  1.51508137,  3.2484608 ,  4.98184023,\n",
       "         6.71521966,  8.44859909, 10.18197852, 11.91535796]),\n",
       " <BarContainer object of 8 artists>)"
      ]
     },
     "execution_count": 39,
     "metadata": {},
     "output_type": "execute_result"
    },
    {
     "data": {
      "image/png": "[encoded data removed]",
      "text/plain": [
       "<Figure size 960x720 with 1 Axes>"
      ]
     },
     "metadata": {
      "needs_background": "light"
     },
     "output_type": "display_data"
    }
   ],
   "source": [
    "fig, ax = plt.subplots(dpi=120, figsize=(8, 6))\n",
    "\n",
    "obj = obj_images['F000057.jpg']\n",
    "\n",
    "obj_flat = obj.flatten()\n",
    "obj_flat_norm = (obj_flat - obj_flat.mean()) / (obj_flat.std())\n",
    "\n",
    "ax.hist(obj_flat_norm, bins=8)"
   ]
  },
  {
   "cell_type": "code",
   "execution_count": null,
   "id": "de7a7b7e",
   "metadata": {},
   "outputs": [],
   "source": []
  }
 ],
 "metadata": {
  "kernelspec": {
   "display_name": "Python 3",
   "language": "python",
   "name": "python3"
  },
  "language_info": {
   "codemirror_mode": {
    "name": "ipython",
    "version": 3
   },
   "file_extension": ".py",
   "mimetype": "text/x-python",
   "name": "python",
   "nbconvert_exporter": "python",
   "pygments_lexer": "ipython3",
   "version": "3.8.10"
  }
 },
 "nbformat": 4,
 "nbformat_minor": 5
}
