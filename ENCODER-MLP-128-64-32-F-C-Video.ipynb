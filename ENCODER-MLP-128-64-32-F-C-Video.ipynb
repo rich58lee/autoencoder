{
 "cells": [
  {
   "cell_type": "markdown",
   "id": "ae6d9200",
   "metadata": {},
   "source": [
    "<h3>輸入原影像，經過壓縮轉換，再由轉換壓縮碼，還原成類原圖</h3>"
   ]
  },
  {
   "cell_type": "code",
   "execution_count": 1,
   "id": "92fc498c",
   "metadata": {},
   "outputs": [],
   "source": [
    "from __future__ import absolute_import, division, print_function, unicode_literals"
   ]
  },
  {
   "cell_type": "code",
   "execution_count": 2,
   "id": "dec7388f",
   "metadata": {},
   "outputs": [],
   "source": [
    "from glob import glob\n",
    "import os\n",
    "import numpy"
   ]
  },
  {
   "cell_type": "code",
   "execution_count": 3,
   "id": "895f7f82",
   "metadata": {},
   "outputs": [],
   "source": [
    "import cv2"
   ]
  },
  {
   "cell_type": "code",
   "execution_count": 4,
   "id": "8c02da01",
   "metadata": {},
   "outputs": [],
   "source": [
    "import matplotlib.pyplot as plt\n",
    "from mpl_toolkits.mplot3d import Axes3D\n",
    "from pylab import rcParams\n",
    "from matplotlib import cm"
   ]
  },
  {
   "cell_type": "markdown",
   "id": "561d32fe",
   "metadata": {},
   "source": [
    "<h3>環境設置</h3>"
   ]
  },
  {
   "cell_type": "code",
   "execution_count": 5,
   "id": "2c7895d9",
   "metadata": {},
   "outputs": [],
   "source": [
    "output_path = 'DIFF3'\n",
    "\n",
    "diff_image_files = sorted(glob('%s/D*.jpg' % 'DIFF'))\n",
    "sobel_image_files = sorted(glob('%s/D*.jpg' % 'DIFF2'))"
   ]
  },
  {
   "cell_type": "code",
   "execution_count": 6,
   "id": "7903987b",
   "metadata": {},
   "outputs": [],
   "source": [
    "num_of_image = min(len(diff_image_files), len(sobel_image_files))"
   ]
  },
  {
   "cell_type": "markdown",
   "id": "d572ccd9",
   "metadata": {},
   "source": [
    "<h3>載入魚影像檔</h3>"
   ]
  },
  {
   "cell_type": "code",
   "execution_count": 7,
   "id": "f288267b",
   "metadata": {},
   "outputs": [],
   "source": [
    "def plot_image(image_ID):\n",
    "    global diff_image_files, sobel_image_files\n",
    "    \n",
    "    diff_image = cv2.imread(diff_image_files[image_ID])\n",
    "    diff_image = cv2.cvtColor(diff_image.copy(), cv2.COLOR_BGR2RGB)\n",
    "    \n",
    "    sobel_image = cv2.imread(sobel_image_files[image_ID])\n",
    "    sobel_image = cv2.cvtColor(sobel_image.copy(), cv2.COLOR_BGR2RGB)\n",
    "    \n",
    "    fig, (ax1, ax2) = plt.subplots(dpi=120, ncols=2)\n",
    "    \n",
    "    ax1.imshow(diff_image)\n",
    "    ax1.axis('off')\n",
    "    \n",
    "    ax2.imshow(sobel_image)\n",
    "    ax2.axis('off')\n",
    "   \n",
    "    plt.tight_layout()\n",
    "    \n",
    "    output_file = '%s/D%06d.jpg' % (output_path, image_ID)\n",
    "    if os.path.exists(output_file):\n",
    "        os.remove(output_file)\n",
    "\n",
    "    fig.savefig(output_file, bbox_inches='tight',pad_inches=0)   \n",
    "    plt.close()"
   ]
  },
  {
   "cell_type": "code",
   "execution_count": 8,
   "id": "cafa744b",
   "metadata": {},
   "outputs": [],
   "source": [
    "for image_ID in range(num_of_image):\n",
    "    plot_image(image_ID)"
   ]
  },
  {
   "cell_type": "code",
   "execution_count": null,
   "id": "e7af20e0",
   "metadata": {},
   "outputs": [],
   "source": []
  }
 ],
 "metadata": {
  "kernelspec": {
   "display_name": "Python 3",
   "language": "python",
   "name": "python3"
  },
  "language_info": {
   "codemirror_mode": {
    "name": "ipython",
    "version": 3
   },
   "file_extension": ".py",
   "mimetype": "text/x-python",
   "name": "python",
   "nbconvert_exporter": "python",
   "pygments_lexer": "ipython3",
   "version": "3.8.10"
  }
 },
 "nbformat": 4,
 "nbformat_minor": 5
}
