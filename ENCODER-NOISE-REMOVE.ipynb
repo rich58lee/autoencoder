{
 "cells": [
  {
   "cell_type": "markdown",
   "metadata": {},
   "source": [
    "<h3>輸入原影像，經過壓縮轉換，再由轉換壓縮碼，還原成類原圖</h3>"
   ]
  },
  {
   "cell_type": "code",
   "execution_count": 1,
   "metadata": {},
   "outputs": [],
   "source": [
    "from __future__ import absolute_import, division, print_function, unicode_literals"
   ]
  },
  {
   "cell_type": "code",
   "execution_count": 2,
   "metadata": {},
   "outputs": [],
   "source": [
    "from glob import glob\n",
    "import numpy\n",
    "import pandas"
   ]
  },
  {
   "cell_type": "code",
   "execution_count": 3,
   "metadata": {},
   "outputs": [],
   "source": [
    "import cv2"
   ]
  },
  {
   "cell_type": "code",
   "execution_count": 4,
   "metadata": {},
   "outputs": [],
   "source": [
    "from keras.preprocessing.image import load_img\n",
    "from keras.preprocessing.image import img_to_array\n",
    "from keras.preprocessing.image import ImageDataGenerator"
   ]
  },
  {
   "cell_type": "code",
   "execution_count": 5,
   "metadata": {},
   "outputs": [],
   "source": [
    "import keras\n",
    "from keras import layers\n",
    "from keras.models import Model\n",
    "from keras.callbacks import ModelCheckpoint, EarlyStopping"
   ]
  },
  {
   "cell_type": "code",
   "execution_count": 6,
   "metadata": {},
   "outputs": [],
   "source": [
    "import matplotlib.pyplot as plt\n",
    "from mpl_toolkits.mplot3d import Axes3D\n",
    "from pylab import rcParams\n",
    "from matplotlib import cm"
   ]
  },
  {
   "cell_type": "markdown",
   "metadata": {},
   "source": [
    "<h3>環境設置</h3>"
   ]
  },
  {
   "cell_type": "code",
   "execution_count": 7,
   "metadata": {},
   "outputs": [],
   "source": [
    "image_path = '/mnt/Treasury/Projects/ComputerVision/ObjectDetection/workspace/fish/source_images'\n",
    "train_data_file = '/mnt/Treasury/Projects/ComputerVision/ObjectDetection/workspace/fish/data/train_labels.csv'\n",
    "test_data_file = '/mnt/Treasury/Projects/ComputerVision/ObjectDetection/workspace/fish/data/test_labels.csv'"
   ]
  },
  {
   "cell_type": "code",
   "execution_count": 8,
   "metadata": {},
   "outputs": [],
   "source": [
    "def show_image(my_image):\n",
    "    global max_dim\n",
    "    \n",
    "    _my_image = numpy.reshape(my_image, max_dim)\n",
    "    \n",
    "    fig, ax = plt.subplots(dpi=120)\n",
    "    \n",
    "    ax.imshow(my_image)\n",
    "    ax.axis('off')\n",
    "    \n",
    "    plt.show()"
   ]
  },
  {
   "cell_type": "code",
   "execution_count": 9,
   "metadata": {},
   "outputs": [],
   "source": [
    "train_data = pandas.read_csv(train_data_file)\n",
    "\n",
    "train_data.sort_values(['filename', 'class', 'xmin', 'ymin'], inplace=True)"
   ]
  },
  {
   "cell_type": "code",
   "execution_count": 10,
   "metadata": {},
   "outputs": [
    {
     "data": {
      "text/html": [
       "<div>\n",
       "<style scoped>\n",
       "    .dataframe tbody tr th:only-of-type {\n",
       "        vertical-align: middle;\n",
       "    }\n",
       "\n",
       "    .dataframe tbody tr th {\n",
       "        vertical-align: top;\n",
       "    }\n",
       "\n",
       "    .dataframe thead th {\n",
       "        text-align: right;\n",
       "    }\n",
       "</style>\n",
       "<table border=\"1\" class=\"dataframe\">\n",
       "  <thead>\n",
       "    <tr style=\"text-align: right;\">\n",
       "      <th></th>\n",
       "      <th>filename</th>\n",
       "      <th>width</th>\n",
       "      <th>height</th>\n",
       "      <th>class</th>\n",
       "      <th>xmin</th>\n",
       "      <th>ymin</th>\n",
       "      <th>xmax</th>\n",
       "      <th>ymax</th>\n",
       "    </tr>\n",
       "  </thead>\n",
       "  <tbody>\n",
       "    <tr>\n",
       "      <th>3517</th>\n",
       "      <td>F000056.jpg</td>\n",
       "      <td>1920</td>\n",
       "      <td>1080</td>\n",
       "      <td>A</td>\n",
       "      <td>11</td>\n",
       "      <td>333</td>\n",
       "      <td>759</td>\n",
       "      <td>760</td>\n",
       "    </tr>\n",
       "    <tr>\n",
       "      <th>5540</th>\n",
       "      <td>F000057.jpg</td>\n",
       "      <td>1920</td>\n",
       "      <td>1080</td>\n",
       "      <td>A</td>\n",
       "      <td>12</td>\n",
       "      <td>337</td>\n",
       "      <td>769</td>\n",
       "      <td>767</td>\n",
       "    </tr>\n",
       "    <tr>\n",
       "      <th>3994</th>\n",
       "      <td>F000058.jpg</td>\n",
       "      <td>1920</td>\n",
       "      <td>1080</td>\n",
       "      <td>A</td>\n",
       "      <td>26</td>\n",
       "      <td>348</td>\n",
       "      <td>776</td>\n",
       "      <td>767</td>\n",
       "    </tr>\n",
       "    <tr>\n",
       "      <th>4480</th>\n",
       "      <td>F000061.jpg</td>\n",
       "      <td>1920</td>\n",
       "      <td>1080</td>\n",
       "      <td>A</td>\n",
       "      <td>1591</td>\n",
       "      <td>256</td>\n",
       "      <td>1920</td>\n",
       "      <td>616</td>\n",
       "    </tr>\n",
       "    <tr>\n",
       "      <th>5184</th>\n",
       "      <td>F000064.jpg</td>\n",
       "      <td>1920</td>\n",
       "      <td>1080</td>\n",
       "      <td>A</td>\n",
       "      <td>94</td>\n",
       "      <td>390</td>\n",
       "      <td>825</td>\n",
       "      <td>786</td>\n",
       "    </tr>\n",
       "  </tbody>\n",
       "</table>\n",
       "</div>"
      ],
      "text/plain": [
       "         filename  width  height class  xmin  ymin  xmax  ymax\n",
       "3517  F000056.jpg   1920    1080     A    11   333   759   760\n",
       "5540  F000057.jpg   1920    1080     A    12   337   769   767\n",
       "3994  F000058.jpg   1920    1080     A    26   348   776   767\n",
       "4480  F000061.jpg   1920    1080     A  1591   256  1920   616\n",
       "5184  F000064.jpg   1920    1080     A    94   390   825   786"
      ]
     },
     "execution_count": 10,
     "metadata": {},
     "output_type": "execute_result"
    }
   ],
   "source": [
    "train_data.head()"
   ]
  },
  {
   "cell_type": "code",
   "execution_count": 11,
   "metadata": {},
   "outputs": [],
   "source": [
    "test_data = pandas.read_csv(test_data_file)\n",
    "test_data.sort_values(['filename', 'class', 'xmin', 'ymin'], inplace=True)"
   ]
  },
  {
   "cell_type": "code",
   "execution_count": 12,
   "metadata": {},
   "outputs": [
    {
     "data": {
      "text/html": [
       "<div>\n",
       "<style scoped>\n",
       "    .dataframe tbody tr th:only-of-type {\n",
       "        vertical-align: middle;\n",
       "    }\n",
       "\n",
       "    .dataframe tbody tr th {\n",
       "        vertical-align: top;\n",
       "    }\n",
       "\n",
       "    .dataframe thead th {\n",
       "        text-align: right;\n",
       "    }\n",
       "</style>\n",
       "<table border=\"1\" class=\"dataframe\">\n",
       "  <thead>\n",
       "    <tr style=\"text-align: right;\">\n",
       "      <th></th>\n",
       "      <th>filename</th>\n",
       "      <th>width</th>\n",
       "      <th>height</th>\n",
       "      <th>class</th>\n",
       "      <th>xmin</th>\n",
       "      <th>ymin</th>\n",
       "      <th>xmax</th>\n",
       "      <th>ymax</th>\n",
       "    </tr>\n",
       "  </thead>\n",
       "  <tbody>\n",
       "    <tr>\n",
       "      <th>347</th>\n",
       "      <td>F000064.jpg</td>\n",
       "      <td>1920</td>\n",
       "      <td>1080</td>\n",
       "      <td>A</td>\n",
       "      <td>94</td>\n",
       "      <td>390</td>\n",
       "      <td>825</td>\n",
       "      <td>786</td>\n",
       "    </tr>\n",
       "    <tr>\n",
       "      <th>346</th>\n",
       "      <td>F000064.jpg</td>\n",
       "      <td>1920</td>\n",
       "      <td>1080</td>\n",
       "      <td>B</td>\n",
       "      <td>1569</td>\n",
       "      <td>244</td>\n",
       "      <td>1920</td>\n",
       "      <td>615</td>\n",
       "    </tr>\n",
       "    <tr>\n",
       "      <th>1168</th>\n",
       "      <td>F000066.jpg</td>\n",
       "      <td>1920</td>\n",
       "      <td>1080</td>\n",
       "      <td>A</td>\n",
       "      <td>120</td>\n",
       "      <td>394</td>\n",
       "      <td>848</td>\n",
       "      <td>788</td>\n",
       "    </tr>\n",
       "    <tr>\n",
       "      <th>1169</th>\n",
       "      <td>F000066.jpg</td>\n",
       "      <td>1920</td>\n",
       "      <td>1080</td>\n",
       "      <td>B</td>\n",
       "      <td>1579</td>\n",
       "      <td>241</td>\n",
       "      <td>1920</td>\n",
       "      <td>606</td>\n",
       "    </tr>\n",
       "    <tr>\n",
       "      <th>816</th>\n",
       "      <td>F000086.jpg</td>\n",
       "      <td>1920</td>\n",
       "      <td>1080</td>\n",
       "      <td>B</td>\n",
       "      <td>1593</td>\n",
       "      <td>174</td>\n",
       "      <td>1920</td>\n",
       "      <td>487</td>\n",
       "    </tr>\n",
       "  </tbody>\n",
       "</table>\n",
       "</div>"
      ],
      "text/plain": [
       "         filename  width  height class  xmin  ymin  xmax  ymax\n",
       "347   F000064.jpg   1920    1080     A    94   390   825   786\n",
       "346   F000064.jpg   1920    1080     B  1569   244  1920   615\n",
       "1168  F000066.jpg   1920    1080     A   120   394   848   788\n",
       "1169  F000066.jpg   1920    1080     B  1579   241  1920   606\n",
       "816   F000086.jpg   1920    1080     B  1593   174  1920   487"
      ]
     },
     "execution_count": 12,
     "metadata": {},
     "output_type": "execute_result"
    }
   ],
   "source": [
    "test_data.head()"
   ]
  },
  {
   "cell_type": "code",
   "execution_count": 13,
   "metadata": {},
   "outputs": [
    {
     "data": {
      "text/plain": [
       "['F011984.jpg', 'F010698.jpg', 'F005846.jpg', 'F018586.jpg', 'F005858.jpg']"
      ]
     },
     "execution_count": 13,
     "metadata": {},
     "output_type": "execute_result"
    }
   ],
   "source": [
    "train_image_files = list(set(train_data['filename']))\n",
    "train_image_files[:5]"
   ]
  },
  {
   "cell_type": "code",
   "execution_count": 14,
   "metadata": {},
   "outputs": [
    {
     "data": {
      "text/plain": [
       "['F003260.jpg', 'F009204.jpg', 'F004980.jpg', 'F014734.jpg', 'F017656.jpg']"
      ]
     },
     "execution_count": 14,
     "metadata": {},
     "output_type": "execute_result"
    }
   ],
   "source": [
    "test_image_files = list(set(test_data['filename']))\n",
    "test_image_files[:5]"
   ]
  },
  {
   "cell_type": "markdown",
   "metadata": {},
   "source": [
    "<h3>載入魚影像檔</h3>"
   ]
  },
  {
   "cell_type": "code",
   "execution_count": 15,
   "metadata": {},
   "outputs": [],
   "source": [
    "kernel = numpy.array([[-1, -1, -1], [-1, 11, -1], [-1, -1, -1]])\n",
    "\n",
    "alpha = 0.6 # Contrast control (1.0-3.0)\n",
    "beta = 2 # Brightness control (0-100)"
   ]
  },
  {
   "cell_type": "code",
   "execution_count": 16,
   "metadata": {},
   "outputs": [],
   "source": [
    "def read_image_file(my_image_info, noise=False):\n",
    "    global image_path\n",
    "    \n",
    "    my_image_file = '%s/%s' % (image_path, my_image_info.iloc[0]['filename'])\n",
    "\n",
    "    _fish_image = cv2.imread(my_image_file, cv2.COLOR_BGR2RGB)\n",
    "    _fish_image = cv2.filter2D(_fish_image, -1, kernel)\n",
    "    _fish_image = cv2.convertScaleAbs(_fish_image.copy(), alpha=alpha, beta=beta)\n",
    "    \n",
    "    if noise:\n",
    "        return _fish_image\n",
    "\n",
    "    my_image = numpy.ones((1080, 1920, 3), numpy.uint8)\n",
    "\n",
    "    for i in range(my_image_info.shape[0]):\n",
    "        xmin = my_image_info.iloc[i]['xmin']\n",
    "        xmax = my_image_info.iloc[i]['xmax']\n",
    "\n",
    "        ymin = my_image_info.iloc[i]['ymin']\n",
    "        ymax = my_image_info.iloc[i]['ymax']\n",
    "\n",
    "        my_image[ymin:ymax, xmin:xmax, :] = _fish_image[ymin:ymax, xmin:xmax, :]\n",
    "     \n",
    "    return my_image"
   ]
  },
  {
   "cell_type": "code",
   "execution_count": 17,
   "metadata": {},
   "outputs": [
    {
     "data": {
      "image/png": "[encoded data removed]",
      "text/plain": [
       "<Figure size 720x480 with 1 Axes>"
      ]
     },
     "metadata": {
      "needs_background": "light"
     },
     "output_type": "display_data"
    }
   ],
   "source": [
    "my_image_name = 'F010552.jpg'\n",
    "my_image_info = train_data.loc[(train_data['filename']==my_image_name)]\n",
    "\n",
    "my_image = read_image_file(my_image_info)\n",
    "\n",
    "fig, ax = plt.subplots(dpi=120)\n",
    "    \n",
    "ax.imshow(my_image)\n",
    "ax.axis('off')\n",
    "    \n",
    "plt.show()"
   ]
  },
  {
   "cell_type": "code",
   "execution_count": 18,
   "metadata": {},
   "outputs": [
    {
     "data": {
      "image/png": "[encoded data removed]",
      "text/plain": [
       "<Figure size 720x480 with 1 Axes>"
      ]
     },
     "metadata": {
      "needs_background": "light"
     },
     "output_type": "display_data"
    }
   ],
   "source": [
    "my_image_name = 'F015428.jpg'\n",
    "my_image_info = test_data.loc[(test_data['filename']==my_image_name)]\n",
    "\n",
    "my_image = read_image_file(my_image_info)\n",
    "\n",
    "fig, ax = plt.subplots(dpi=120)\n",
    "    \n",
    "ax.imshow(my_image)\n",
    "ax.axis('off')\n",
    "    \n",
    "plt.show()"
   ]
  },
  {
   "cell_type": "code",
   "execution_count": 19,
   "metadata": {},
   "outputs": [],
   "source": [
    "max_dim = (256, 256, 3)"
   ]
  },
  {
   "cell_type": "code",
   "execution_count": 20,
   "metadata": {},
   "outputs": [],
   "source": [
    "def load_data(my_image_files, my_data, noise=False):\n",
    "    global train_data, test_data, max_dim\n",
    "\n",
    "    my_images = []\n",
    "    \n",
    "    for my_image_name in my_image_files:\n",
    "        my_image_info = my_data.loc[(my_data['filename']==my_image_name)]\n",
    "        my_image = read_image_file(my_image_info, noise)\n",
    "        my_image = cv2.resize(my_image.copy(), max_dim[:2], interpolation = cv2.INTER_AREA)\n",
    "\n",
    "        my_images.append(numpy.reshape(my_image, max_dim))\n",
    "\n",
    "    my_images = numpy.array(my_images)\n",
    "    numpy.random.shuffle(my_images)\n",
    "\n",
    "    return my_images"
   ]
  },
  {
   "cell_type": "code",
   "execution_count": 21,
   "metadata": {},
   "outputs": [],
   "source": [
    "def load_dataset(noise=False):\n",
    "    global train_image_files, train_data, test_image_files, test_data\n",
    "\n",
    "    my_train_images = load_data(train_image_files, train_data, noise)\n",
    "    my_test_images = load_data(test_image_files, test_data, noise)\n",
    "      \n",
    "    return my_train_images, my_test_images"
   ]
  },
  {
   "cell_type": "code",
   "execution_count": 22,
   "metadata": {},
   "outputs": [],
   "source": [
    "x_train, x_test = load_dataset()"
   ]
  },
  {
   "cell_type": "code",
   "execution_count": 23,
   "metadata": {},
   "outputs": [],
   "source": [
    "x_train_noise, x_test_noise = load_dataset(noise=True)"
   ]
  },
  {
   "cell_type": "code",
   "execution_count": 24,
   "metadata": {},
   "outputs": [
    {
     "data": {
      "text/plain": [
       "((3472, 256, 256, 3), (957, 256, 256, 3))"
      ]
     },
     "execution_count": 24,
     "metadata": {},
     "output_type": "execute_result"
    }
   ],
   "source": [
    "x_train.shape, x_test.shape"
   ]
  },
  {
   "cell_type": "code",
   "execution_count": 25,
   "metadata": {},
   "outputs": [
    {
     "data": {
      "image/png": "[encoded data removed]",
      "text/plain": [
       "<Figure size 720x480 with 1 Axes>"
      ]
     },
     "metadata": {
      "needs_background": "light"
     },
     "output_type": "display_data"
    }
   ],
   "source": [
    "show_image(x_train[numpy.random.randint(len(x_train))])"
   ]
  },
  {
   "cell_type": "markdown",
   "metadata": {},
   "source": [
    "<h3>將 0 ~ 255 值域，轉換為: 0 ~ 1</h3>"
   ]
  },
  {
   "cell_type": "code",
   "execution_count": 26,
   "metadata": {},
   "outputs": [],
   "source": [
    "x_train = x_train.astype('float32') / 255.\n",
    "x_test = x_test.astype('float32') / 255."
   ]
  },
  {
   "cell_type": "code",
   "execution_count": 27,
   "metadata": {},
   "outputs": [],
   "source": [
    "x_train_noise = x_train_noise.astype('float32') / 255.\n",
    "x_test_noise = x_test_noise.astype('float32') / 255."
   ]
  },
  {
   "cell_type": "markdown",
   "metadata": {},
   "source": [
    "<h3>參數設置</h3>\n",
    "<p>$$壓縮率: \\frac {{256}*{256}={65536}}{64} = 1024$$</p>"
   ]
  },
  {
   "cell_type": "code",
   "execution_count": 28,
   "metadata": {},
   "outputs": [],
   "source": [
    "encoding_dim = (32, 32, 64)"
   ]
  },
  {
   "cell_type": "markdown",
   "metadata": {},
   "source": [
    "<h3>建立模型</h3>"
   ]
  },
  {
   "cell_type": "code",
   "execution_count": 43,
   "metadata": {},
   "outputs": [],
   "source": [
    "input_img = keras.Input(shape=max_dim, name='input')"
   ]
  },
  {
   "cell_type": "code",
   "execution_count": 44,
   "metadata": {},
   "outputs": [],
   "source": [
    "x = layers.Conv2D(384, (3, 3), activation='relu', padding='same', name='Conv2D_256')(input_img)\n",
    "x = layers.MaxPooling2D((2, 2), padding='same', name='MaxPooling2D_256')(x)\n",
    "x = layers.Dropout(.2)(x)"
   ]
  },
  {
   "cell_type": "code",
   "execution_count": 45,
   "metadata": {},
   "outputs": [],
   "source": [
    "x = layers.Conv2D(256, (3, 3), activation='relu', padding='same', name='Conv2D_128')(x)\n",
    "x = layers.MaxPooling2D((2, 2), padding='same', name='MaxPooling2D_128')(x)\n",
    "x = layers.Dropout(.2)(x)"
   ]
  },
  {
   "cell_type": "code",
   "execution_count": 46,
   "metadata": {},
   "outputs": [],
   "source": [
    "x = layers.Conv2D(128, (3, 3), activation='relu', padding='same', name='Conv2D_64')(x)\n",
    "encoded = layers.MaxPooling2D((2, 2), padding='same', name='encoded')(x)"
   ]
  },
  {
   "cell_type": "code",
   "execution_count": 47,
   "metadata": {},
   "outputs": [],
   "source": [
    "x = layers.Conv2DTranspose(128, (3, 3), activation='relu', padding='same', name='Conv2DT_64')(encoded)\n",
    "x = layers.UpSampling2D((2, 2), name='UpSampling2D_64')(x)\n",
    "x = layers.Dropout(.2)(x)"
   ]
  },
  {
   "cell_type": "code",
   "execution_count": 48,
   "metadata": {},
   "outputs": [],
   "source": [
    "x = layers.Conv2DTranspose(256, (3, 3), activation='relu', padding='same', name='Conv2DT_128')(x)\n",
    "x = layers.UpSampling2D((2, 2), name='UpSampling2D_128')(x)\n",
    "x = layers.Dropout(.2)(x)"
   ]
  },
  {
   "cell_type": "code",
   "execution_count": 49,
   "metadata": {},
   "outputs": [],
   "source": [
    "x = layers.Conv2DTranspose(384, (3, 3), activation='relu', padding='same', name='Conv2DT_256')(x)\n",
    "x = layers.UpSampling2D((2, 2), name='UpSampling2D_256')(x)"
   ]
  },
  {
   "cell_type": "code",
   "execution_count": 50,
   "metadata": {},
   "outputs": [],
   "source": [
    "decoded = layers.Conv2D(max_dim[-1], (3, 3), padding='same', name='output')(x)"
   ]
  },
  {
   "cell_type": "code",
   "execution_count": 51,
   "metadata": {},
   "outputs": [],
   "source": [
    "autoencoder = keras.Model(input_img, decoded)"
   ]
  },
  {
   "cell_type": "code",
   "execution_count": 52,
   "metadata": {},
   "outputs": [
    {
     "name": "stdout",
     "output_type": "stream",
     "text": [
      "Model: \"functional_3\"\n",
      "_________________________________________________________________\n",
      "Layer (type)                 Output Shape              Param #   \n",
      "=================================================================\n",
      "input (InputLayer)           [(None, 256, 256, 3)]     0         \n",
      "_________________________________________________________________\n",
      "Conv2D_256 (Conv2D)          (None, 256, 256, 384)     10752     \n",
      "_________________________________________________________________\n",
      "MaxPooling2D_256 (MaxPooling (None, 128, 128, 384)     0         \n",
      "_________________________________________________________________\n",
      "dropout_4 (Dropout)          (None, 128, 128, 384)     0         \n",
      "_________________________________________________________________\n",
      "Conv2D_128 (Conv2D)          (None, 128, 128, 256)     884992    \n",
      "_________________________________________________________________\n",
      "MaxPooling2D_128 (MaxPooling (None, 64, 64, 256)       0         \n",
      "_________________________________________________________________\n",
      "dropout_5 (Dropout)          (None, 64, 64, 256)       0         \n",
      "_________________________________________________________________\n",
      "Conv2D_64 (Conv2D)           (None, 64, 64, 128)       295040    \n",
      "_________________________________________________________________\n",
      "encoded (MaxPooling2D)       (None, 32, 32, 128)       0         \n",
      "_________________________________________________________________\n",
      "Conv2DT_64 (Conv2DTranspose) (None, 32, 32, 128)       147584    \n",
      "_________________________________________________________________\n",
      "UpSampling2D_64 (UpSampling2 (None, 64, 64, 128)       0         \n",
      "_________________________________________________________________\n",
      "dropout_6 (Dropout)          (None, 64, 64, 128)       0         \n",
      "_________________________________________________________________\n",
      "Conv2DT_128 (Conv2DTranspose (None, 64, 64, 256)       295168    \n",
      "_________________________________________________________________\n",
      "UpSampling2D_128 (UpSampling (None, 128, 128, 256)     0         \n",
      "_________________________________________________________________\n",
      "dropout_7 (Dropout)          (None, 128, 128, 256)     0         \n",
      "_________________________________________________________________\n",
      "Conv2DT_256 (Conv2DTranspose (None, 128, 128, 384)     885120    \n",
      "_________________________________________________________________\n",
      "UpSampling2D_256 (UpSampling (None, 256, 256, 384)     0         \n",
      "_________________________________________________________________\n",
      "output (Conv2D)              (None, 256, 256, 3)       10371     \n",
      "=================================================================\n",
      "Total params: 2,529,027\n",
      "Trainable params: 2,529,027\n",
      "Non-trainable params: 0\n",
      "_________________________________________________________________\n"
     ]
    }
   ],
   "source": [
    "autoencoder.summary()"
   ]
  },
  {
   "cell_type": "code",
   "execution_count": 53,
   "metadata": {},
   "outputs": [],
   "source": [
    "autoencoder.compile(optimizer='adam', loss='mse')  # binary_crossentropy"
   ]
  },
  {
   "cell_type": "markdown",
   "metadata": {},
   "source": [
    "<h3>訓練模型</h3>"
   ]
  },
  {
   "cell_type": "code",
   "execution_count": 54,
   "metadata": {},
   "outputs": [],
   "source": [
    "checkpointer = ModelCheckpoint(\n",
    "    filepath='Noise-Color.hdf5', \n",
    "    monitor=\"val_loss\", verbose=1, \n",
    "    save_best_only=True, mode='auto'\n",
    ")\n",
    "\n",
    "earlyStop = EarlyStopping(monitor='val_loss', patience=48)"
   ]
  },
  {
   "cell_type": "code",
   "execution_count": 55,
   "metadata": {},
   "outputs": [],
   "source": [
    "num_of_epoch = 1024\n",
    "num_of_batch_size = 16"
   ]
  },
  {
   "cell_type": "code",
   "execution_count": 56,
   "metadata": {
    "scrolled": false
   },
   "outputs": [
    {
     "name": "stdout",
     "output_type": "stream",
     "text": [
      "Epoch 1/1024\n",
      "  2/217 [..............................] - ETA: 32s - loss: 0.1923WARNING:tensorflow:Callbacks method `on_train_batch_end` is slow compared to the batch time (batch time: 0.0064s vs `on_train_batch_end` time: 0.2991s). Check your callbacks.\n",
      "217/217 [==============================] - ETA: 0s - loss: 0.0184\n",
      "Epoch 00001: val_loss improved from inf to 0.01837, saving model to Noise-Color.hdf5\n",
      "217/217 [==============================] - 66s 306ms/step - loss: 0.0184 - val_loss: 0.0184\n",
      "Epoch 2/1024\n",
      "217/217 [==============================] - ETA: 0s - loss: 0.0165\n",
      "Epoch 00002: val_loss improved from 0.01837 to 0.01827, saving model to Noise-Color.hdf5\n",
      "217/217 [==============================] - 66s 306ms/step - loss: 0.0165 - val_loss: 0.0183\n",
      "Epoch 3/1024\n",
      "217/217 [==============================] - ETA: 0s - loss: 0.0165\n",
      "Epoch 00003: val_loss improved from 0.01827 to 0.01822, saving model to Noise-Color.hdf5\n",
      "217/217 [==============================] - 70s 322ms/step - loss: 0.0165 - val_loss: 0.0182\n",
      "Epoch 4/1024\n",
      "217/217 [==============================] - ETA: 0s - loss: 0.0165\n",
      "Epoch 00004: val_loss did not improve from 0.01822\n",
      "217/217 [==============================] - 71s 327ms/step - loss: 0.0165 - val_loss: 0.0182\n",
      "Epoch 5/1024\n",
      "217/217 [==============================] - ETA: 0s - loss: 0.0164\n",
      "Epoch 00005: val_loss did not improve from 0.01822\n",
      "217/217 [==============================] - 71s 329ms/step - loss: 0.0164 - val_loss: 0.0183\n",
      "Epoch 6/1024\n",
      "217/217 [==============================] - ETA: 0s - loss: 0.0164\n",
      "Epoch 00006: val_loss did not improve from 0.01822\n",
      "217/217 [==============================] - 71s 329ms/step - loss: 0.0164 - val_loss: 0.0182\n",
      "Epoch 7/1024\n",
      "217/217 [==============================] - ETA: 0s - loss: 0.0164\n",
      "Epoch 00007: val_loss did not improve from 0.01822\n",
      "217/217 [==============================] - 71s 329ms/step - loss: 0.0164 - val_loss: 0.0183\n",
      "Epoch 8/1024\n",
      "217/217 [==============================] - ETA: 0s - loss: 0.0164\n",
      "Epoch 00008: val_loss improved from 0.01822 to 0.01819, saving model to Noise-Color.hdf5\n",
      "217/217 [==============================] - 72s 330ms/step - loss: 0.0164 - val_loss: 0.0182\n",
      "Epoch 9/1024\n",
      "217/217 [==============================] - ETA: 0s - loss: 0.0164\n",
      "Epoch 00009: val_loss did not improve from 0.01819\n",
      "217/217 [==============================] - 71s 329ms/step - loss: 0.0164 - val_loss: 0.0182\n",
      "Epoch 10/1024\n",
      "217/217 [==============================] - ETA: 0s - loss: 0.0164\n",
      "Epoch 00010: val_loss did not improve from 0.01819\n",
      "217/217 [==============================] - 71s 329ms/step - loss: 0.0164 - val_loss: 0.0182\n",
      "Epoch 11/1024\n",
      "217/217 [==============================] - ETA: 0s - loss: 0.0164\n",
      "Epoch 00011: val_loss did not improve from 0.01819\n",
      "217/217 [==============================] - 71s 329ms/step - loss: 0.0164 - val_loss: 0.0182\n",
      "Epoch 12/1024\n",
      "217/217 [==============================] - ETA: 0s - loss: 0.0164\n",
      "Epoch 00012: val_loss did not improve from 0.01819\n",
      "217/217 [==============================] - 71s 329ms/step - loss: 0.0164 - val_loss: 0.0183\n",
      "Epoch 13/1024\n",
      "217/217 [==============================] - ETA: 0s - loss: 0.0164\n",
      "Epoch 00013: val_loss did not improve from 0.01819\n",
      "217/217 [==============================] - 71s 329ms/step - loss: 0.0164 - val_loss: 0.0182\n",
      "Epoch 14/1024\n",
      "217/217 [==============================] - ETA: 0s - loss: 0.0164\n",
      "Epoch 00014: val_loss did not improve from 0.01819\n",
      "217/217 [==============================] - 71s 329ms/step - loss: 0.0164 - val_loss: 0.0182\n",
      "Epoch 15/1024\n",
      "217/217 [==============================] - ETA: 0s - loss: 0.0164\n",
      "Epoch 00015: val_loss did not improve from 0.01819\n",
      "217/217 [==============================] - 71s 329ms/step - loss: 0.0164 - val_loss: 0.0182\n",
      "Epoch 16/1024\n",
      "217/217 [==============================] - ETA: 0s - loss: 0.0164\n",
      "Epoch 00016: val_loss improved from 0.01819 to 0.01815, saving model to Noise-Color.hdf5\n",
      "217/217 [==============================] - 71s 329ms/step - loss: 0.0164 - val_loss: 0.0182\n",
      "Epoch 17/1024\n",
      "217/217 [==============================] - ETA: 0s - loss: 0.0164\n",
      "Epoch 00017: val_loss did not improve from 0.01815\n",
      "217/217 [==============================] - 71s 329ms/step - loss: 0.0164 - val_loss: 0.0182\n",
      "Epoch 18/1024\n",
      "217/217 [==============================] - ETA: 0s - loss: 0.0164\n",
      "Epoch 00018: val_loss did not improve from 0.01815\n",
      "217/217 [==============================] - 71s 329ms/step - loss: 0.0164 - val_loss: 0.0182\n",
      "Epoch 19/1024\n",
      "217/217 [==============================] - ETA: 0s - loss: 0.0164\n",
      "Epoch 00019: val_loss improved from 0.01815 to 0.01815, saving model to Noise-Color.hdf5\n",
      "217/217 [==============================] - 71s 329ms/step - loss: 0.0164 - val_loss: 0.0181\n",
      "Epoch 20/1024\n",
      "217/217 [==============================] - ETA: 0s - loss: 0.0164\n",
      "Epoch 00020: val_loss did not improve from 0.01815\n",
      "217/217 [==============================] - 71s 329ms/step - loss: 0.0164 - val_loss: 0.0183\n",
      "Epoch 21/1024\n",
      "217/217 [==============================] - ETA: 0s - loss: 0.0164\n",
      "Epoch 00021: val_loss did not improve from 0.01815\n",
      "217/217 [==============================] - 70s 324ms/step - loss: 0.0164 - val_loss: 0.0182\n",
      "Epoch 22/1024\n",
      "217/217 [==============================] - ETA: 0s - loss: 0.0164\n",
      "Epoch 00022: val_loss did not improve from 0.01815\n",
      "217/217 [==============================] - 65s 298ms/step - loss: 0.0164 - val_loss: 0.0182\n",
      "Epoch 23/1024\n",
      "217/217 [==============================] - ETA: 0s - loss: 0.0163\n",
      "Epoch 00023: val_loss did not improve from 0.01815\n",
      "217/217 [==============================] - 65s 297ms/step - loss: 0.0163 - val_loss: 0.0182\n",
      "Epoch 24/1024\n",
      "217/217 [==============================] - ETA: 0s - loss: 0.0163\n",
      "Epoch 00024: val_loss did not improve from 0.01815\n",
      "217/217 [==============================] - 65s 297ms/step - loss: 0.0163 - val_loss: 0.0182\n",
      "Epoch 25/1024\n",
      "217/217 [==============================] - ETA: 0s - loss: 0.0163\n",
      "Epoch 00025: val_loss did not improve from 0.01815\n",
      "217/217 [==============================] - 65s 297ms/step - loss: 0.0163 - val_loss: 0.0182\n",
      "Epoch 26/1024\n",
      "217/217 [==============================] - ETA: 0s - loss: 0.0163\n",
      "Epoch 00026: val_loss improved from 0.01815 to 0.01813, saving model to Noise-Color.hdf5\n",
      "217/217 [==============================] - 65s 298ms/step - loss: 0.0163 - val_loss: 0.0181\n",
      "Epoch 27/1024\n",
      "217/217 [==============================] - ETA: 0s - loss: 0.0163\n",
      "Epoch 00027: val_loss did not improve from 0.01813\n",
      "217/217 [==============================] - 65s 297ms/step - loss: 0.0163 - val_loss: 0.0181\n",
      "Epoch 28/1024\n",
      "217/217 [==============================] - ETA: 0s - loss: 0.0163\n",
      "Epoch 00028: val_loss did not improve from 0.01813\n",
      "217/217 [==============================] - 65s 297ms/step - loss: 0.0163 - val_loss: 0.0182\n",
      "Epoch 29/1024\n",
      "217/217 [==============================] - ETA: 0s - loss: 0.0163\n",
      "Epoch 00029: val_loss did not improve from 0.01813\n",
      "217/217 [==============================] - 65s 298ms/step - loss: 0.0163 - val_loss: 0.0182\n",
      "Epoch 30/1024\n",
      "217/217 [==============================] - ETA: 0s - loss: 0.0163\n",
      "Epoch 00030: val_loss improved from 0.01813 to 0.01811, saving model to Noise-Color.hdf5\n",
      "217/217 [==============================] - 65s 298ms/step - loss: 0.0163 - val_loss: 0.0181\n",
      "Epoch 31/1024\n",
      "217/217 [==============================] - ETA: 0s - loss: 0.0163\n",
      "Epoch 00031: val_loss did not improve from 0.01811\n",
      "217/217 [==============================] - 65s 297ms/step - loss: 0.0163 - val_loss: 0.0182\n",
      "Epoch 32/1024\n",
      "217/217 [==============================] - ETA: 0s - loss: 0.0163\n",
      "Epoch 00032: val_loss did not improve from 0.01811\n",
      "217/217 [==============================] - 65s 297ms/step - loss: 0.0163 - val_loss: 0.0182\n",
      "Epoch 33/1024\n",
      "217/217 [==============================] - ETA: 0s - loss: 0.0163\n",
      "Epoch 00033: val_loss did not improve from 0.01811\n",
      "217/217 [==============================] - 65s 297ms/step - loss: 0.0163 - val_loss: 0.0182\n",
      "Epoch 34/1024\n",
      "217/217 [==============================] - ETA: 0s - loss: 0.0163\n",
      "Epoch 00034: val_loss did not improve from 0.01811\n",
      "217/217 [==============================] - 65s 297ms/step - loss: 0.0163 - val_loss: 0.0182\n",
      "Epoch 35/1024\n"
     ]
    },
    {
     "name": "stdout",
     "output_type": "stream",
     "text": [
      "217/217 [==============================] - ETA: 0s - loss: 0.0163\n",
      "Epoch 00035: val_loss did not improve from 0.01811\n",
      "217/217 [==============================] - 64s 297ms/step - loss: 0.0163 - val_loss: 0.0181\n",
      "Epoch 36/1024\n",
      "217/217 [==============================] - ETA: 0s - loss: 0.0163\n",
      "Epoch 00036: val_loss did not improve from 0.01811\n",
      "217/217 [==============================] - 64s 297ms/step - loss: 0.0163 - val_loss: 0.0182\n",
      "Epoch 37/1024\n",
      "217/217 [==============================] - ETA: 0s - loss: 0.0163\n",
      "Epoch 00037: val_loss did not improve from 0.01811\n",
      "217/217 [==============================] - 64s 297ms/step - loss: 0.0163 - val_loss: 0.0181\n",
      "Epoch 38/1024\n",
      "217/217 [==============================] - ETA: 0s - loss: 0.0163\n",
      "Epoch 00038: val_loss did not improve from 0.01811\n",
      "217/217 [==============================] - 64s 297ms/step - loss: 0.0163 - val_loss: 0.0181\n",
      "Epoch 39/1024\n",
      "217/217 [==============================] - ETA: 0s - loss: 0.0163\n",
      "Epoch 00039: val_loss did not improve from 0.01811\n",
      "217/217 [==============================] - 65s 297ms/step - loss: 0.0163 - val_loss: 0.0181\n",
      "Epoch 40/1024\n",
      "217/217 [==============================] - ETA: 0s - loss: 0.0163\n",
      "Epoch 00040: val_loss did not improve from 0.01811\n",
      "217/217 [==============================] - 64s 297ms/step - loss: 0.0163 - val_loss: 0.0182\n",
      "Epoch 41/1024\n",
      "217/217 [==============================] - ETA: 0s - loss: 0.0163\n",
      "Epoch 00041: val_loss did not improve from 0.01811\n",
      "217/217 [==============================] - 64s 297ms/step - loss: 0.0163 - val_loss: 0.0181\n",
      "Epoch 42/1024\n",
      "217/217 [==============================] - ETA: 0s - loss: 0.0163\n",
      "Epoch 00042: val_loss improved from 0.01811 to 0.01811, saving model to Noise-Color.hdf5\n",
      "217/217 [==============================] - 65s 298ms/step - loss: 0.0163 - val_loss: 0.0181\n",
      "Epoch 43/1024\n",
      "217/217 [==============================] - ETA: 0s - loss: 0.0163\n",
      "Epoch 00043: val_loss did not improve from 0.01811\n",
      "217/217 [==============================] - 64s 297ms/step - loss: 0.0163 - val_loss: 0.0182\n",
      "Epoch 44/1024\n",
      "217/217 [==============================] - ETA: 0s - loss: 0.0163\n",
      "Epoch 00044: val_loss did not improve from 0.01811\n",
      "217/217 [==============================] - 64s 297ms/step - loss: 0.0163 - val_loss: 0.0182\n",
      "Epoch 45/1024\n",
      "217/217 [==============================] - ETA: 0s - loss: 0.0163\n",
      "Epoch 00045: val_loss did not improve from 0.01811\n",
      "217/217 [==============================] - 64s 297ms/step - loss: 0.0163 - val_loss: 0.0182\n",
      "Epoch 46/1024\n",
      "217/217 [==============================] - ETA: 0s - loss: 0.0163\n",
      "Epoch 00046: val_loss did not improve from 0.01811\n",
      "217/217 [==============================] - 64s 297ms/step - loss: 0.0163 - val_loss: 0.0182\n",
      "Epoch 47/1024\n",
      "217/217 [==============================] - ETA: 0s - loss: 0.0163\n",
      "Epoch 00047: val_loss did not improve from 0.01811\n",
      "217/217 [==============================] - 64s 297ms/step - loss: 0.0163 - val_loss: 0.0182\n",
      "Epoch 48/1024\n",
      "217/217 [==============================] - ETA: 0s - loss: 0.0163\n",
      "Epoch 00048: val_loss did not improve from 0.01811\n",
      "217/217 [==============================] - 64s 297ms/step - loss: 0.0163 - val_loss: 0.0182\n",
      "Epoch 49/1024\n",
      "217/217 [==============================] - ETA: 0s - loss: 0.0163\n",
      "Epoch 00049: val_loss did not improve from 0.01811\n",
      "217/217 [==============================] - 65s 297ms/step - loss: 0.0163 - val_loss: 0.0181\n",
      "Epoch 50/1024\n",
      "217/217 [==============================] - ETA: 0s - loss: 0.0163\n",
      "Epoch 00050: val_loss did not improve from 0.01811\n",
      "217/217 [==============================] - 64s 297ms/step - loss: 0.0163 - val_loss: 0.0181\n",
      "Epoch 51/1024\n",
      "217/217 [==============================] - ETA: 0s - loss: 0.0163\n",
      "Epoch 00051: val_loss did not improve from 0.01811\n",
      "217/217 [==============================] - 64s 297ms/step - loss: 0.0163 - val_loss: 0.0181\n",
      "Epoch 52/1024\n",
      "217/217 [==============================] - ETA: 0s - loss: 0.0163\n",
      "Epoch 00052: val_loss did not improve from 0.01811\n",
      "217/217 [==============================] - 64s 297ms/step - loss: 0.0163 - val_loss: 0.0181\n",
      "Epoch 53/1024\n",
      "217/217 [==============================] - ETA: 0s - loss: 0.0162\n",
      "Epoch 00053: val_loss did not improve from 0.01811\n",
      "217/217 [==============================] - 64s 297ms/step - loss: 0.0162 - val_loss: 0.0181\n",
      "Epoch 54/1024\n",
      "217/217 [==============================] - ETA: 0s - loss: 0.0163\n",
      "Epoch 00054: val_loss did not improve from 0.01811\n",
      "217/217 [==============================] - 67s 308ms/step - loss: 0.0163 - val_loss: 0.0182\n",
      "Epoch 55/1024\n",
      "217/217 [==============================] - ETA: 0s - loss: 0.0162\n",
      "Epoch 00055: val_loss did not improve from 0.01811\n",
      "217/217 [==============================] - 71s 328ms/step - loss: 0.0162 - val_loss: 0.0182\n",
      "Epoch 56/1024\n",
      "217/217 [==============================] - ETA: 0s - loss: 0.0162\n",
      "Epoch 00056: val_loss did not improve from 0.01811\n",
      "217/217 [==============================] - 71s 328ms/step - loss: 0.0162 - val_loss: 0.0182\n",
      "Epoch 57/1024\n",
      "217/217 [==============================] - ETA: 0s - loss: 0.0162\n",
      "Epoch 00057: val_loss did not improve from 0.01811\n",
      "217/217 [==============================] - 71s 328ms/step - loss: 0.0162 - val_loss: 0.0182\n",
      "Epoch 58/1024\n",
      "217/217 [==============================] - ETA: 0s - loss: 0.0162\n",
      "Epoch 00058: val_loss did not improve from 0.01811\n",
      "217/217 [==============================] - 71s 328ms/step - loss: 0.0162 - val_loss: 0.0181\n",
      "Epoch 59/1024\n",
      "217/217 [==============================] - ETA: 0s - loss: 0.0162\n",
      "Epoch 00059: val_loss did not improve from 0.01811\n",
      "217/217 [==============================] - 71s 328ms/step - loss: 0.0162 - val_loss: 0.0182\n",
      "Epoch 60/1024\n",
      "217/217 [==============================] - ETA: 0s - loss: 0.0162\n",
      "Epoch 00060: val_loss did not improve from 0.01811\n",
      "217/217 [==============================] - 71s 328ms/step - loss: 0.0162 - val_loss: 0.0182\n",
      "Epoch 61/1024\n",
      "217/217 [==============================] - ETA: 0s - loss: 0.0162\n",
      "Epoch 00061: val_loss did not improve from 0.01811\n",
      "217/217 [==============================] - 71s 328ms/step - loss: 0.0162 - val_loss: 0.0182\n",
      "Epoch 62/1024\n",
      "217/217 [==============================] - ETA: 0s - loss: 0.0162\n",
      "Epoch 00062: val_loss did not improve from 0.01811\n",
      "217/217 [==============================] - 71s 328ms/step - loss: 0.0162 - val_loss: 0.0182\n",
      "Epoch 63/1024\n",
      "217/217 [==============================] - ETA: 0s - loss: 0.0162\n",
      "Epoch 00063: val_loss did not improve from 0.01811\n",
      "217/217 [==============================] - 71s 328ms/step - loss: 0.0162 - val_loss: 0.0182\n",
      "Epoch 64/1024\n",
      "217/217 [==============================] - ETA: 0s - loss: 0.0162\n",
      "Epoch 00064: val_loss did not improve from 0.01811\n",
      "217/217 [==============================] - 71s 328ms/step - loss: 0.0162 - val_loss: 0.0182\n",
      "Epoch 65/1024\n",
      "217/217 [==============================] - ETA: 0s - loss: 0.0162\n",
      "Epoch 00065: val_loss did not improve from 0.01811\n",
      "217/217 [==============================] - 71s 328ms/step - loss: 0.0162 - val_loss: 0.0182\n",
      "Epoch 66/1024\n",
      "217/217 [==============================] - ETA: 0s - loss: 0.0162\n",
      "Epoch 00066: val_loss did not improve from 0.01811\n",
      "217/217 [==============================] - 71s 328ms/step - loss: 0.0162 - val_loss: 0.0182\n",
      "Epoch 67/1024\n",
      "217/217 [==============================] - ETA: 0s - loss: 0.0161\n",
      "Epoch 00067: val_loss did not improve from 0.01811\n",
      "217/217 [==============================] - 71s 328ms/step - loss: 0.0161 - val_loss: 0.0183\n",
      "Epoch 68/1024\n",
      "217/217 [==============================] - ETA: 0s - loss: 0.0161\n",
      "Epoch 00068: val_loss did not improve from 0.01811\n",
      "217/217 [==============================] - 71s 328ms/step - loss: 0.0161 - val_loss: 0.0182\n",
      "Epoch 69/1024\n",
      "217/217 [==============================] - ETA: 0s - loss: 0.0161\n",
      "Epoch 00069: val_loss did not improve from 0.01811\n",
      "217/217 [==============================] - 71s 328ms/step - loss: 0.0161 - val_loss: 0.0183\n",
      "Epoch 70/1024\n",
      "217/217 [==============================] - ETA: 0s - loss: 0.0161\n",
      "Epoch 00070: val_loss did not improve from 0.01811\n",
      "217/217 [==============================] - 69s 320ms/step - loss: 0.0161 - val_loss: 0.0182\n",
      "Epoch 71/1024\n",
      "217/217 [==============================] - ETA: 0s - loss: 0.0161\n",
      "Epoch 00071: val_loss did not improve from 0.01811\n",
      "217/217 [==============================] - 70s 325ms/step - loss: 0.0161 - val_loss: 0.0183\n"
     ]
    },
    {
     "name": "stdout",
     "output_type": "stream",
     "text": [
      "Epoch 72/1024\n",
      "217/217 [==============================] - ETA: 0s - loss: 0.0161\n",
      "Epoch 00072: val_loss did not improve from 0.01811\n",
      "217/217 [==============================] - 65s 298ms/step - loss: 0.0161 - val_loss: 0.0183\n",
      "Epoch 73/1024\n",
      "217/217 [==============================] - ETA: 0s - loss: 0.0160\n",
      "Epoch 00073: val_loss did not improve from 0.01811\n",
      "217/217 [==============================] - 66s 303ms/step - loss: 0.0160 - val_loss: 0.0183\n",
      "Epoch 74/1024\n",
      "217/217 [==============================] - ETA: 0s - loss: 0.0160\n",
      "Epoch 00074: val_loss did not improve from 0.01811\n",
      "217/217 [==============================] - 67s 311ms/step - loss: 0.0160 - val_loss: 0.0183\n",
      "Epoch 75/1024\n",
      "217/217 [==============================] - ETA: 0s - loss: 0.0160\n",
      "Epoch 00075: val_loss did not improve from 0.01811\n",
      "217/217 [==============================] - 69s 317ms/step - loss: 0.0160 - val_loss: 0.0183\n",
      "Epoch 76/1024\n",
      "217/217 [==============================] - ETA: 0s - loss: 0.0160\n",
      "Epoch 00076: val_loss did not improve from 0.01811\n",
      "217/217 [==============================] - 70s 323ms/step - loss: 0.0160 - val_loss: 0.0184\n",
      "Epoch 77/1024\n",
      "217/217 [==============================] - ETA: 0s - loss: 0.0160\n",
      "Epoch 00077: val_loss did not improve from 0.01811\n",
      "217/217 [==============================] - 71s 327ms/step - loss: 0.0160 - val_loss: 0.0184\n",
      "Epoch 78/1024\n",
      "217/217 [==============================] - ETA: 0s - loss: 0.0159\n",
      "Epoch 00078: val_loss did not improve from 0.01811\n",
      "217/217 [==============================] - 71s 328ms/step - loss: 0.0159 - val_loss: 0.0184\n",
      "Epoch 79/1024\n",
      "217/217 [==============================] - ETA: 0s - loss: 0.0159\n",
      "Epoch 00079: val_loss did not improve from 0.01811\n",
      "217/217 [==============================] - 71s 328ms/step - loss: 0.0159 - val_loss: 0.0184\n",
      "Epoch 80/1024\n",
      "217/217 [==============================] - ETA: 0s - loss: 0.0159\n",
      "Epoch 00080: val_loss did not improve from 0.01811\n",
      "217/217 [==============================] - 71s 328ms/step - loss: 0.0159 - val_loss: 0.0183\n",
      "Epoch 81/1024\n",
      "217/217 [==============================] - ETA: 0s - loss: 0.0159\n",
      "Epoch 00081: val_loss did not improve from 0.01811\n",
      "217/217 [==============================] - 71s 327ms/step - loss: 0.0159 - val_loss: 0.0184\n",
      "Epoch 82/1024\n",
      "217/217 [==============================] - ETA: 0s - loss: 0.0158\n",
      "Epoch 00082: val_loss did not improve from 0.01811\n",
      "217/217 [==============================] - 71s 328ms/step - loss: 0.0158 - val_loss: 0.0184\n",
      "Epoch 83/1024\n",
      "217/217 [==============================] - ETA: 0s - loss: 0.0158\n",
      "Epoch 00083: val_loss did not improve from 0.01811\n",
      "217/217 [==============================] - 71s 328ms/step - loss: 0.0158 - val_loss: 0.0185\n",
      "Epoch 84/1024\n",
      "217/217 [==============================] - ETA: 0s - loss: 0.0158\n",
      "Epoch 00084: val_loss did not improve from 0.01811\n",
      "217/217 [==============================] - 71s 328ms/step - loss: 0.0158 - val_loss: 0.0185\n",
      "Epoch 85/1024\n",
      "217/217 [==============================] - ETA: 0s - loss: 0.0158\n",
      "Epoch 00085: val_loss did not improve from 0.01811\n",
      "217/217 [==============================] - 71s 328ms/step - loss: 0.0158 - val_loss: 0.0184\n",
      "Epoch 86/1024\n",
      "217/217 [==============================] - ETA: 0s - loss: 0.0158\n",
      "Epoch 00086: val_loss did not improve from 0.01811\n",
      "217/217 [==============================] - 71s 328ms/step - loss: 0.0158 - val_loss: 0.0184\n",
      "Epoch 87/1024\n",
      "217/217 [==============================] - ETA: 0s - loss: 0.0157\n",
      "Epoch 00087: val_loss did not improve from 0.01811\n",
      "217/217 [==============================] - 71s 328ms/step - loss: 0.0157 - val_loss: 0.0185\n",
      "Epoch 88/1024\n",
      "217/217 [==============================] - ETA: 0s - loss: 0.0157\n",
      "Epoch 00088: val_loss did not improve from 0.01811\n",
      "217/217 [==============================] - 71s 328ms/step - loss: 0.0157 - val_loss: 0.0186\n",
      "Epoch 89/1024\n",
      "217/217 [==============================] - ETA: 0s - loss: 0.0157\n",
      "Epoch 00089: val_loss did not improve from 0.01811\n",
      "217/217 [==============================] - 71s 328ms/step - loss: 0.0157 - val_loss: 0.0186\n",
      "Epoch 90/1024\n",
      "217/217 [==============================] - ETA: 0s - loss: 0.0156\n",
      "Epoch 00090: val_loss did not improve from 0.01811\n",
      "217/217 [==============================] - 71s 328ms/step - loss: 0.0156 - val_loss: 0.0186\n"
     ]
    }
   ],
   "source": [
    "score = autoencoder.fit(x_train_noise, x_train,\n",
    "                        epochs=num_of_epoch,\n",
    "                        batch_size=num_of_batch_size,\n",
    "                        shuffle=True,\n",
    "                        validation_data=(x_test_noise, x_test),\n",
    "                        callbacks=[checkpointer, earlyStop]\n",
    "                       )"
   ]
  },
  {
   "cell_type": "markdown",
   "metadata": {},
   "source": [
    "<h3>模型訓練績效</h3>"
   ]
  },
  {
   "cell_type": "code",
   "execution_count": 57,
   "metadata": {},
   "outputs": [
    {
     "data": {
      "image/png": "[encoded data removed]",
      "text/plain": [
       "<Figure size 720x480 with 1 Axes>"
      ]
     },
     "metadata": {
      "needs_background": "light"
     },
     "output_type": "display_data"
    }
   ],
   "source": [
    "best_iteration = numpy.argmin(score.history['val_loss']) + 1\n",
    "\n",
    "val_scores = score.history['val_loss'][0:best_iteration]\n",
    "train_scores = score.history['loss'][0:best_iteration]\n",
    "\n",
    "fig, ax = plt.subplots(dpi=120)\n",
    "\n",
    "ax.plot(val_scores, label='val_loss')\n",
    "ax.plot(train_scores, label='train_loss')\n",
    "\n",
    "plt.legend(loc='upper right')\n",
    "plt.show()"
   ]
  },
  {
   "cell_type": "markdown",
   "metadata": {},
   "source": [
    "<h3>隨機顯示抽象圖與假圖</h3>"
   ]
  },
  {
   "cell_type": "code",
   "execution_count": 58,
   "metadata": {},
   "outputs": [],
   "source": [
    "faint_image_files = glob('%s/F*.jpg' % '/mnt/Treasury/Projects/ComputerVision/Fish-ID/FISH-1/7227/V0')"
   ]
  },
  {
   "cell_type": "code",
   "execution_count": 59,
   "metadata": {},
   "outputs": [],
   "source": [
    "my_faint_images = []\n",
    "\n",
    "for image_file in faint_image_files[:24]:\n",
    "    _image_file = image_file.replace('\\\\', '/')\n",
    "\n",
    "    \n",
    "    _fish_image = cv2.imread(_image_file, cv2.COLOR_BGR2RGB)\n",
    "    _fish_image = cv2.resize(_fish_image.copy(), max_dim[:2], interpolation = cv2.INTER_AREA)\n",
    "\n",
    "    my_faint_images.append(numpy.reshape(_fish_image, max_dim))\n",
    "\n",
    "my_faint_images = numpy.array(my_faint_images)"
   ]
  },
  {
   "cell_type": "code",
   "execution_count": 60,
   "metadata": {},
   "outputs": [],
   "source": [
    "my_faint_images = my_faint_images.astype('float32') / 255.\n",
    "my_faint_images = numpy.reshape(my_faint_images, (my_faint_images.shape[0],) + max_dim)"
   ]
  },
  {
   "cell_type": "code",
   "execution_count": 61,
   "metadata": {},
   "outputs": [
    {
     "data": {
      "text/plain": [
       "(24, 256, 256, 3)"
      ]
     },
     "execution_count": 61,
     "metadata": {},
     "output_type": "execute_result"
    }
   ],
   "source": [
    "my_faint_images.shape"
   ]
  },
  {
   "cell_type": "markdown",
   "metadata": {},
   "source": [
    "<h3>產生假圖</h3>"
   ]
  },
  {
   "cell_type": "code",
   "execution_count": 62,
   "metadata": {},
   "outputs": [
    {
     "ename": "ValueError",
     "evalue": "cannot reshape array of size 3145728 into shape (24,256,256,1)",
     "output_type": "error",
     "traceback": [
      "\u001b[0;31m---------------------------------------------------------------------------\u001b[0m",
      "\u001b[0;31mValueError\u001b[0m                                Traceback (most recent call last)",
      "\u001b[0;32m<ipython-input-62-e91b9de79559>\u001b[0m in \u001b[0;36m<module>\u001b[0;34m\u001b[0m\n\u001b[1;32m      2\u001b[0m \u001b[0;34m\u001b[0m\u001b[0m\n\u001b[1;32m      3\u001b[0m \u001b[0mencoded_imgs\u001b[0m \u001b[0;34m=\u001b[0m \u001b[0mencoder\u001b[0m\u001b[0;34m.\u001b[0m\u001b[0mpredict\u001b[0m\u001b[0;34m(\u001b[0m\u001b[0mmy_faint_images\u001b[0m\u001b[0;34m)\u001b[0m\u001b[0;34m\u001b[0m\u001b[0;34m\u001b[0m\u001b[0m\n\u001b[0;32m----> 4\u001b[0;31m \u001b[0mencoded_imgs\u001b[0m \u001b[0;34m=\u001b[0m \u001b[0mencoded_imgs\u001b[0m\u001b[0;34m.\u001b[0m\u001b[0mreshape\u001b[0m\u001b[0;34m(\u001b[0m\u001b[0;34m(\u001b[0m\u001b[0mlen\u001b[0m\u001b[0;34m(\u001b[0m\u001b[0mencoded_imgs\u001b[0m\u001b[0;34m)\u001b[0m\u001b[0;34m,\u001b[0m \u001b[0mmax_dim\u001b[0m\u001b[0;34m[\u001b[0m\u001b[0;36m0\u001b[0m\u001b[0;34m]\u001b[0m\u001b[0;34m,\u001b[0m \u001b[0mmax_dim\u001b[0m\u001b[0;34m[\u001b[0m\u001b[0;36m1\u001b[0m\u001b[0;34m]\u001b[0m\u001b[0;34m,\u001b[0m \u001b[0;36m1\u001b[0m\u001b[0;34m)\u001b[0m\u001b[0;34m)\u001b[0m\u001b[0;34m\u001b[0m\u001b[0;34m\u001b[0m\u001b[0m\n\u001b[0m",
      "\u001b[0;31mValueError\u001b[0m: cannot reshape array of size 3145728 into shape (24,256,256,1)"
     ]
    }
   ],
   "source": [
    "encoder = Model(inputs=autoencoder.input, outputs=autoencoder.get_layer(\"encoded\").output)\n",
    "\n",
    "encoded_imgs = encoder.predict(my_faint_images)\n",
    "encoded_imgs = encoded_imgs.reshape((len(encoded_imgs), max_dim[0], max_dim[1], 1))"
   ]
  },
  {
   "cell_type": "code",
   "execution_count": null,
   "metadata": {},
   "outputs": [],
   "source": [
    "decoded_imgs = autoencoder.predict(my_faint_images)"
   ]
  },
  {
   "cell_type": "markdown",
   "metadata": {},
   "source": [
    "<h3>顯示原圖與假圖</h3>"
   ]
  },
  {
   "cell_type": "code",
   "execution_count": null,
   "metadata": {},
   "outputs": [],
   "source": [
    "def find_faint_file_pos(my_image_id=None):\n",
    "    global my_faint_images\n",
    "    \n",
    "    pos = -1\n",
    "    \n",
    "    if my_image_id is None:\n",
    "        pos = numpy.random.randint(0, my_faint_images.shape[0], 1)[0]\n",
    "    else:\n",
    "        for j in range(len(faint_image_files)):\n",
    "            image_file = read_image_single_file[j]\n",
    "            if my_image_id in image_file:\n",
    "                pos = j\n",
    "                break\n",
    "            \n",
    "    if pos == -1:\n",
    "        pos = numpy.random.randint(0, my_faint_images.shape[0], 1)[0]\n",
    "        \n",
    "    return pos"
   ]
  },
  {
   "cell_type": "code",
   "execution_count": null,
   "metadata": {},
   "outputs": [],
   "source": [
    "i = find_faint_file_pos()"
   ]
  },
  {
   "cell_type": "code",
   "execution_count": null,
   "metadata": {},
   "outputs": [],
   "source": [
    "fig, (ax0, ax1, ax2) = plt.subplots(dpi=240, ncols=3)\n",
    "\n",
    "ax0.imshow(my_faint_images[i].reshape(max_dim[0], max_dim[1], max_dim[2]))\n",
    "ax0.get_xaxis().set_visible(False)\n",
    "ax0.get_yaxis().set_visible(False)\n",
    "\n",
    "ax1.imshow(decoded_imgs[i].reshape(max_dim[0], max_dim[1], max_dim[2]))\n",
    "ax1.get_xaxis().set_visible(False)\n",
    "ax1.get_yaxis().set_visible(False)\n",
    "\n",
    "ax2.imshow(encoded_imgs[i].reshape(max_dim[0], max_dim[1]), cmap=plt.cm.binary)\n",
    "ax2.get_xaxis().set_visible(False)\n",
    "ax2.get_yaxis().set_visible(False)\n",
    "\n",
    "plt.tight_layout()\n",
    "plt.show()"
   ]
  },
  {
   "cell_type": "code",
   "execution_count": null,
   "metadata": {},
   "outputs": [],
   "source": []
  }
 ],
 "metadata": {
  "kernelspec": {
   "display_name": "Python 3",
   "language": "python",
   "name": "python3"
  },
  "language_info": {
   "codemirror_mode": {
    "name": "ipython",
    "version": 3
   },
   "file_extension": ".py",
   "mimetype": "text/x-python",
   "name": "python",
   "nbconvert_exporter": "python",
   "pygments_lexer": "ipython3",
   "version": "3.8.5"
  }
 },
 "nbformat": 4,
 "nbformat_minor": 5
}
